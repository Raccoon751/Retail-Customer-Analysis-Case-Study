{
 "cells": [
  {
   "cell_type": "code",
   "execution_count": 1,
   "id": "c46e569f",
   "metadata": {},
   "outputs": [],
   "source": [
    "import  pandas as pd\n",
    "import numpy as np\n",
    "import matplotlib.pyplot as plt\n",
    "import seaborn as sns\n",
    "import datetime as dt"
   ]
  },
  {
   "cell_type": "code",
   "execution_count": 2,
   "id": "32e24635",
   "metadata": {},
   "outputs": [
    {
     "ename": "FileNotFoundError",
     "evalue": "[Errno 2] No such file or directory: 'C:\\\\Users\\\\Shiv_Shakti\\\\Desktop\\\\PG CERT DS\\\\Term 2\\\\0CASE STUDY\\\\Case Study 1 - Retail Case Study\\\\Customer.csv'",
     "output_type": "error",
     "traceback": [
      "\u001b[1;31m---------------------------------------------------------------------------\u001b[0m",
      "\u001b[1;31mFileNotFoundError\u001b[0m                         Traceback (most recent call last)",
      "Cell \u001b[1;32mIn[2], line 1\u001b[0m\n\u001b[1;32m----> 1\u001b[0m customer\u001b[38;5;241m=\u001b[39mpd\u001b[38;5;241m.\u001b[39mread_csv(\u001b[38;5;124mr\u001b[39m\u001b[38;5;124m\"\u001b[39m\u001b[38;5;124mC:\u001b[39m\u001b[38;5;124m\\\u001b[39m\u001b[38;5;124mUsers\u001b[39m\u001b[38;5;124m\\\u001b[39m\u001b[38;5;124mShiv_Shakti\u001b[39m\u001b[38;5;124m\\\u001b[39m\u001b[38;5;124mDesktop\u001b[39m\u001b[38;5;124m\\\u001b[39m\u001b[38;5;124mPG CERT DS\u001b[39m\u001b[38;5;124m\\\u001b[39m\u001b[38;5;124mTerm 2\u001b[39m\u001b[38;5;124m\\\u001b[39m\u001b[38;5;124m0CASE STUDY\u001b[39m\u001b[38;5;124m\\\u001b[39m\u001b[38;5;124mCase Study 1 - Retail Case Study\u001b[39m\u001b[38;5;124m\\\u001b[39m\u001b[38;5;124mCustomer.csv\u001b[39m\u001b[38;5;124m\"\u001b[39m)\n\u001b[0;32m      2\u001b[0m prod_info\u001b[38;5;241m=\u001b[39mpd\u001b[38;5;241m.\u001b[39mread_csv(\u001b[38;5;124mr\u001b[39m\u001b[38;5;124m\"\u001b[39m\u001b[38;5;124mC:\u001b[39m\u001b[38;5;124m\\\u001b[39m\u001b[38;5;124mUsers\u001b[39m\u001b[38;5;124m\\\u001b[39m\u001b[38;5;124mShiv_Shakti\u001b[39m\u001b[38;5;124m\\\u001b[39m\u001b[38;5;124mDesktop\u001b[39m\u001b[38;5;124m\\\u001b[39m\u001b[38;5;124mPG CERT DS\u001b[39m\u001b[38;5;124m\\\u001b[39m\u001b[38;5;124mTerm 2\u001b[39m\u001b[38;5;124m\\\u001b[39m\u001b[38;5;124m0CASE STUDY\u001b[39m\u001b[38;5;124m\\\u001b[39m\u001b[38;5;124mCase Study 1 - Retail Case Study\u001b[39m\u001b[38;5;124m\\\u001b[39m\u001b[38;5;124mprod_cat_info.csv\u001b[39m\u001b[38;5;124m\"\u001b[39m)\n\u001b[0;32m      3\u001b[0m transaction\u001b[38;5;241m=\u001b[39mpd\u001b[38;5;241m.\u001b[39mread_csv(\u001b[38;5;124mr\u001b[39m\u001b[38;5;124m\"\u001b[39m\u001b[38;5;124mC:\u001b[39m\u001b[38;5;124m\\\u001b[39m\u001b[38;5;124mUsers\u001b[39m\u001b[38;5;124m\\\u001b[39m\u001b[38;5;124mShiv_Shakti\u001b[39m\u001b[38;5;124m\\\u001b[39m\u001b[38;5;124mDesktop\u001b[39m\u001b[38;5;124m\\\u001b[39m\u001b[38;5;124mPG CERT DS\u001b[39m\u001b[38;5;124m\\\u001b[39m\u001b[38;5;124mTerm 2\u001b[39m\u001b[38;5;124m\\\u001b[39m\u001b[38;5;124m0CASE STUDY\u001b[39m\u001b[38;5;124m\\\u001b[39m\u001b[38;5;124mCase Study 1 - Retail Case Study\u001b[39m\u001b[38;5;124m\\\u001b[39m\u001b[38;5;124mTransactions.csv\u001b[39m\u001b[38;5;124m\"\u001b[39m)\n",
      "File \u001b[1;32mC:\\ProgramData\\anaconda3\\Lib\\site-packages\\pandas\\io\\parsers\\readers.py:948\u001b[0m, in \u001b[0;36mread_csv\u001b[1;34m(filepath_or_buffer, sep, delimiter, header, names, index_col, usecols, dtype, engine, converters, true_values, false_values, skipinitialspace, skiprows, skipfooter, nrows, na_values, keep_default_na, na_filter, verbose, skip_blank_lines, parse_dates, infer_datetime_format, keep_date_col, date_parser, date_format, dayfirst, cache_dates, iterator, chunksize, compression, thousands, decimal, lineterminator, quotechar, quoting, doublequote, escapechar, comment, encoding, encoding_errors, dialect, on_bad_lines, delim_whitespace, low_memory, memory_map, float_precision, storage_options, dtype_backend)\u001b[0m\n\u001b[0;32m    935\u001b[0m kwds_defaults \u001b[38;5;241m=\u001b[39m _refine_defaults_read(\n\u001b[0;32m    936\u001b[0m     dialect,\n\u001b[0;32m    937\u001b[0m     delimiter,\n\u001b[1;32m   (...)\u001b[0m\n\u001b[0;32m    944\u001b[0m     dtype_backend\u001b[38;5;241m=\u001b[39mdtype_backend,\n\u001b[0;32m    945\u001b[0m )\n\u001b[0;32m    946\u001b[0m kwds\u001b[38;5;241m.\u001b[39mupdate(kwds_defaults)\n\u001b[1;32m--> 948\u001b[0m \u001b[38;5;28;01mreturn\u001b[39;00m _read(filepath_or_buffer, kwds)\n",
      "File \u001b[1;32mC:\\ProgramData\\anaconda3\\Lib\\site-packages\\pandas\\io\\parsers\\readers.py:611\u001b[0m, in \u001b[0;36m_read\u001b[1;34m(filepath_or_buffer, kwds)\u001b[0m\n\u001b[0;32m    608\u001b[0m _validate_names(kwds\u001b[38;5;241m.\u001b[39mget(\u001b[38;5;124m\"\u001b[39m\u001b[38;5;124mnames\u001b[39m\u001b[38;5;124m\"\u001b[39m, \u001b[38;5;28;01mNone\u001b[39;00m))\n\u001b[0;32m    610\u001b[0m \u001b[38;5;66;03m# Create the parser.\u001b[39;00m\n\u001b[1;32m--> 611\u001b[0m parser \u001b[38;5;241m=\u001b[39m TextFileReader(filepath_or_buffer, \u001b[38;5;241m*\u001b[39m\u001b[38;5;241m*\u001b[39mkwds)\n\u001b[0;32m    613\u001b[0m \u001b[38;5;28;01mif\u001b[39;00m chunksize \u001b[38;5;129;01mor\u001b[39;00m iterator:\n\u001b[0;32m    614\u001b[0m     \u001b[38;5;28;01mreturn\u001b[39;00m parser\n",
      "File \u001b[1;32mC:\\ProgramData\\anaconda3\\Lib\\site-packages\\pandas\\io\\parsers\\readers.py:1448\u001b[0m, in \u001b[0;36mTextFileReader.__init__\u001b[1;34m(self, f, engine, **kwds)\u001b[0m\n\u001b[0;32m   1445\u001b[0m     \u001b[38;5;28mself\u001b[39m\u001b[38;5;241m.\u001b[39moptions[\u001b[38;5;124m\"\u001b[39m\u001b[38;5;124mhas_index_names\u001b[39m\u001b[38;5;124m\"\u001b[39m] \u001b[38;5;241m=\u001b[39m kwds[\u001b[38;5;124m\"\u001b[39m\u001b[38;5;124mhas_index_names\u001b[39m\u001b[38;5;124m\"\u001b[39m]\n\u001b[0;32m   1447\u001b[0m \u001b[38;5;28mself\u001b[39m\u001b[38;5;241m.\u001b[39mhandles: IOHandles \u001b[38;5;241m|\u001b[39m \u001b[38;5;28;01mNone\u001b[39;00m \u001b[38;5;241m=\u001b[39m \u001b[38;5;28;01mNone\u001b[39;00m\n\u001b[1;32m-> 1448\u001b[0m \u001b[38;5;28mself\u001b[39m\u001b[38;5;241m.\u001b[39m_engine \u001b[38;5;241m=\u001b[39m \u001b[38;5;28mself\u001b[39m\u001b[38;5;241m.\u001b[39m_make_engine(f, \u001b[38;5;28mself\u001b[39m\u001b[38;5;241m.\u001b[39mengine)\n",
      "File \u001b[1;32mC:\\ProgramData\\anaconda3\\Lib\\site-packages\\pandas\\io\\parsers\\readers.py:1705\u001b[0m, in \u001b[0;36mTextFileReader._make_engine\u001b[1;34m(self, f, engine)\u001b[0m\n\u001b[0;32m   1703\u001b[0m     \u001b[38;5;28;01mif\u001b[39;00m \u001b[38;5;124m\"\u001b[39m\u001b[38;5;124mb\u001b[39m\u001b[38;5;124m\"\u001b[39m \u001b[38;5;129;01mnot\u001b[39;00m \u001b[38;5;129;01min\u001b[39;00m mode:\n\u001b[0;32m   1704\u001b[0m         mode \u001b[38;5;241m+\u001b[39m\u001b[38;5;241m=\u001b[39m \u001b[38;5;124m\"\u001b[39m\u001b[38;5;124mb\u001b[39m\u001b[38;5;124m\"\u001b[39m\n\u001b[1;32m-> 1705\u001b[0m \u001b[38;5;28mself\u001b[39m\u001b[38;5;241m.\u001b[39mhandles \u001b[38;5;241m=\u001b[39m get_handle(\n\u001b[0;32m   1706\u001b[0m     f,\n\u001b[0;32m   1707\u001b[0m     mode,\n\u001b[0;32m   1708\u001b[0m     encoding\u001b[38;5;241m=\u001b[39m\u001b[38;5;28mself\u001b[39m\u001b[38;5;241m.\u001b[39moptions\u001b[38;5;241m.\u001b[39mget(\u001b[38;5;124m\"\u001b[39m\u001b[38;5;124mencoding\u001b[39m\u001b[38;5;124m\"\u001b[39m, \u001b[38;5;28;01mNone\u001b[39;00m),\n\u001b[0;32m   1709\u001b[0m     compression\u001b[38;5;241m=\u001b[39m\u001b[38;5;28mself\u001b[39m\u001b[38;5;241m.\u001b[39moptions\u001b[38;5;241m.\u001b[39mget(\u001b[38;5;124m\"\u001b[39m\u001b[38;5;124mcompression\u001b[39m\u001b[38;5;124m\"\u001b[39m, \u001b[38;5;28;01mNone\u001b[39;00m),\n\u001b[0;32m   1710\u001b[0m     memory_map\u001b[38;5;241m=\u001b[39m\u001b[38;5;28mself\u001b[39m\u001b[38;5;241m.\u001b[39moptions\u001b[38;5;241m.\u001b[39mget(\u001b[38;5;124m\"\u001b[39m\u001b[38;5;124mmemory_map\u001b[39m\u001b[38;5;124m\"\u001b[39m, \u001b[38;5;28;01mFalse\u001b[39;00m),\n\u001b[0;32m   1711\u001b[0m     is_text\u001b[38;5;241m=\u001b[39mis_text,\n\u001b[0;32m   1712\u001b[0m     errors\u001b[38;5;241m=\u001b[39m\u001b[38;5;28mself\u001b[39m\u001b[38;5;241m.\u001b[39moptions\u001b[38;5;241m.\u001b[39mget(\u001b[38;5;124m\"\u001b[39m\u001b[38;5;124mencoding_errors\u001b[39m\u001b[38;5;124m\"\u001b[39m, \u001b[38;5;124m\"\u001b[39m\u001b[38;5;124mstrict\u001b[39m\u001b[38;5;124m\"\u001b[39m),\n\u001b[0;32m   1713\u001b[0m     storage_options\u001b[38;5;241m=\u001b[39m\u001b[38;5;28mself\u001b[39m\u001b[38;5;241m.\u001b[39moptions\u001b[38;5;241m.\u001b[39mget(\u001b[38;5;124m\"\u001b[39m\u001b[38;5;124mstorage_options\u001b[39m\u001b[38;5;124m\"\u001b[39m, \u001b[38;5;28;01mNone\u001b[39;00m),\n\u001b[0;32m   1714\u001b[0m )\n\u001b[0;32m   1715\u001b[0m \u001b[38;5;28;01massert\u001b[39;00m \u001b[38;5;28mself\u001b[39m\u001b[38;5;241m.\u001b[39mhandles \u001b[38;5;129;01mis\u001b[39;00m \u001b[38;5;129;01mnot\u001b[39;00m \u001b[38;5;28;01mNone\u001b[39;00m\n\u001b[0;32m   1716\u001b[0m f \u001b[38;5;241m=\u001b[39m \u001b[38;5;28mself\u001b[39m\u001b[38;5;241m.\u001b[39mhandles\u001b[38;5;241m.\u001b[39mhandle\n",
      "File \u001b[1;32mC:\\ProgramData\\anaconda3\\Lib\\site-packages\\pandas\\io\\common.py:863\u001b[0m, in \u001b[0;36mget_handle\u001b[1;34m(path_or_buf, mode, encoding, compression, memory_map, is_text, errors, storage_options)\u001b[0m\n\u001b[0;32m    858\u001b[0m \u001b[38;5;28;01melif\u001b[39;00m \u001b[38;5;28misinstance\u001b[39m(handle, \u001b[38;5;28mstr\u001b[39m):\n\u001b[0;32m    859\u001b[0m     \u001b[38;5;66;03m# Check whether the filename is to be opened in binary mode.\u001b[39;00m\n\u001b[0;32m    860\u001b[0m     \u001b[38;5;66;03m# Binary mode does not support 'encoding' and 'newline'.\u001b[39;00m\n\u001b[0;32m    861\u001b[0m     \u001b[38;5;28;01mif\u001b[39;00m ioargs\u001b[38;5;241m.\u001b[39mencoding \u001b[38;5;129;01mand\u001b[39;00m \u001b[38;5;124m\"\u001b[39m\u001b[38;5;124mb\u001b[39m\u001b[38;5;124m\"\u001b[39m \u001b[38;5;129;01mnot\u001b[39;00m \u001b[38;5;129;01min\u001b[39;00m ioargs\u001b[38;5;241m.\u001b[39mmode:\n\u001b[0;32m    862\u001b[0m         \u001b[38;5;66;03m# Encoding\u001b[39;00m\n\u001b[1;32m--> 863\u001b[0m         handle \u001b[38;5;241m=\u001b[39m \u001b[38;5;28mopen\u001b[39m(\n\u001b[0;32m    864\u001b[0m             handle,\n\u001b[0;32m    865\u001b[0m             ioargs\u001b[38;5;241m.\u001b[39mmode,\n\u001b[0;32m    866\u001b[0m             encoding\u001b[38;5;241m=\u001b[39mioargs\u001b[38;5;241m.\u001b[39mencoding,\n\u001b[0;32m    867\u001b[0m             errors\u001b[38;5;241m=\u001b[39merrors,\n\u001b[0;32m    868\u001b[0m             newline\u001b[38;5;241m=\u001b[39m\u001b[38;5;124m\"\u001b[39m\u001b[38;5;124m\"\u001b[39m,\n\u001b[0;32m    869\u001b[0m         )\n\u001b[0;32m    870\u001b[0m     \u001b[38;5;28;01melse\u001b[39;00m:\n\u001b[0;32m    871\u001b[0m         \u001b[38;5;66;03m# Binary mode\u001b[39;00m\n\u001b[0;32m    872\u001b[0m         handle \u001b[38;5;241m=\u001b[39m \u001b[38;5;28mopen\u001b[39m(handle, ioargs\u001b[38;5;241m.\u001b[39mmode)\n",
      "\u001b[1;31mFileNotFoundError\u001b[0m: [Errno 2] No such file or directory: 'C:\\\\Users\\\\Shiv_Shakti\\\\Desktop\\\\PG CERT DS\\\\Term 2\\\\0CASE STUDY\\\\Case Study 1 - Retail Case Study\\\\Customer.csv'"
     ]
    }
   ],
   "source": [
    "customer=pd.read_csv(r\"C:\\Users\\Shiv_Shakti\\Desktop\\PG CERT DS\\Term 2\\0CASE STUDY\\Case Study 1 - Retail Case Study\\Customer.csv\")\n",
    "prod_info=pd.read_csv(r\"C:\\Users\\Shiv_Shakti\\Desktop\\PG CERT DS\\Term 2\\0CASE STUDY\\Case Study 1 - Retail Case Study\\prod_cat_info.csv\")\n",
    "transaction=pd.read_csv(r\"C:\\Users\\Shiv_Shakti\\Desktop\\PG CERT DS\\Term 2\\0CASE STUDY\\Case Study 1 - Retail Case Study\\Transactions.csv\")"
   ]
  },
  {
   "cell_type": "code",
   "execution_count": null,
   "id": "58cfa456",
   "metadata": {},
   "outputs": [],
   "source": [
    "customer.head(3)"
   ]
  },
  {
   "cell_type": "code",
   "execution_count": null,
   "id": "3f458e39",
   "metadata": {},
   "outputs": [],
   "source": [
    "prod_info.head(3)"
   ]
  },
  {
   "cell_type": "code",
   "execution_count": null,
   "id": "aae59fdb",
   "metadata": {},
   "outputs": [],
   "source": [
    "#renaming \"prod_sub_cat_code\" column in prod_info table to make it similar to transaction table.\n",
    "prod_info.rename(columns={\"prod_sub_cat_code\":\"prod_subcat_code\"}, inplace=True)"
   ]
  },
  {
   "cell_type": "code",
   "execution_count": null,
   "id": "ab830701",
   "metadata": {},
   "outputs": [],
   "source": [
    "transaction.head(3)"
   ]
  },
  {
   "cell_type": "markdown",
   "id": "bff0deaa",
   "metadata": {},
   "source": [
    "1. Merge the datasets Customers, Product Hierarchy and Transactions as Customer_Final. Ensure to\n",
    "keep all customers who have done transactions with us and select the join type accordingly"
   ]
  },
  {
   "cell_type": "code",
   "execution_count": null,
   "id": "65b69f99",
   "metadata": {},
   "outputs": [],
   "source": [
    "#merge transaction and product info table to create a new table \"prod_concat\"\n",
    "prod_concat= pd.merge(left=transaction, right=prod_info, on=[\"prod_subcat_code\",\"prod_cat_code\"], how=\"left\")"
   ]
  },
  {
   "cell_type": "code",
   "execution_count": null,
   "id": "c5da16f3",
   "metadata": {},
   "outputs": [],
   "source": [
    "#merge \"prod_concat\" and \"customer\" table and create the final table \"customer_final\".\n",
    "customer_final=pd.merge(left=prod_concat,right=customer, right_on=\"customer_Id\", left_on=\"cust_id\", how=\"left\")"
   ]
  },
  {
   "cell_type": "code",
   "execution_count": null,
   "id": "65152d5c",
   "metadata": {},
   "outputs": [],
   "source": [
    "customer_final.head()"
   ]
  },
  {
   "cell_type": "code",
   "execution_count": null,
   "id": "8c54e9eb",
   "metadata": {},
   "outputs": [],
   "source": [
    "customer_final.dtypes"
   ]
  },
  {
   "cell_type": "code",
   "execution_count": null,
   "id": "8a755b1c",
   "metadata": {},
   "outputs": [],
   "source": [
    "# converting \"DOB\" and \"tran_date\" from object dtype to dates\n",
    "customer_final[\"DOB\"] = pd.to_datetime(customer_final[\"DOB\"], format=\"%d-%m-%Y\")"
   ]
  },
  {
   "cell_type": "code",
   "execution_count": null,
   "id": "49dbfa58",
   "metadata": {},
   "outputs": [],
   "source": [
    "customer_final['DOB'].head(10)"
   ]
  },
  {
   "cell_type": "code",
   "execution_count": null,
   "id": "29b4b156",
   "metadata": {},
   "outputs": [],
   "source": [
    "customer_final[\"tran_date\"] = pd.to_datetime(customer_final[\"tran_date\"])"
   ]
  },
  {
   "cell_type": "code",
   "execution_count": null,
   "id": "d9764e3d",
   "metadata": {},
   "outputs": [],
   "source": [
    "customer_final[\"tran_date\"].head(10)"
   ]
  },
  {
   "cell_type": "code",
   "execution_count": null,
   "id": "26eff1f4",
   "metadata": {},
   "outputs": [],
   "source": [
    "customer_final.duplicated().sum()"
   ]
  },
  {
   "cell_type": "code",
   "execution_count": null,
   "id": "1966420b",
   "metadata": {},
   "outputs": [],
   "source": [
    "# dropping duplicate rows\n",
    "customer_final.drop_duplicates(inplace=True)"
   ]
  },
  {
   "cell_type": "code",
   "execution_count": null,
   "id": "de578704",
   "metadata": {},
   "outputs": [],
   "source": [
    "customer_final.duplicated().sum()"
   ]
  },
  {
   "cell_type": "markdown",
   "id": "5ac22ca0",
   "metadata": {},
   "source": [
    "2(a) Get the column names and their corresponding data types"
   ]
  },
  {
   "cell_type": "code",
   "execution_count": null,
   "id": "d437f501",
   "metadata": {},
   "outputs": [],
   "source": [
    "column_info = customer_final.dtypes\n",
    "print(column_info)"
   ]
  },
  {
   "cell_type": "markdown",
   "id": "3f2bb4ec",
   "metadata": {},
   "source": [
    " b. Top/Bottom 10 observations"
   ]
  },
  {
   "cell_type": "code",
   "execution_count": null,
   "id": "f7d0386d",
   "metadata": {},
   "outputs": [],
   "source": [
    "# top 10 observations\n",
    "customer_final.head(10)"
   ]
  },
  {
   "cell_type": "code",
   "execution_count": null,
   "id": "708c0df1",
   "metadata": {},
   "outputs": [],
   "source": [
    "#bottom 10 observations\n",
    "customer_final.tail(10)"
   ]
  },
  {
   "cell_type": "markdown",
   "id": "d17599f1",
   "metadata": {},
   "source": [
    " c. “Five-number summary” for continuous variables (min, Q1, median, Q3 and max)\n"
   ]
  },
  {
   "cell_type": "code",
   "execution_count": null,
   "id": "9a65cb5d",
   "metadata": {},
   "outputs": [],
   "source": [
    "customer_final.describe().drop(['count','mean','std'])"
   ]
  },
  {
   "cell_type": "markdown",
   "id": "a4101aed",
   "metadata": {},
   "source": [
    "D.Frequency tables for all the categorical variables"
   ]
  },
  {
   "cell_type": "code",
   "execution_count": null,
   "id": "ef77502d",
   "metadata": {},
   "outputs": [],
   "source": [
    "customer_final.describe(include='object')"
   ]
  },
  {
   "cell_type": "code",
   "execution_count": null,
   "id": "16b68ad7",
   "metadata": {},
   "outputs": [],
   "source": [
    "sns.histplot(customer_final.prod_cat, kde=True)\n",
    "plt.show()\n",
    "sns.histplot(customer_final.prod_subcat, kde=True)\n",
    "plt.show()\n",
    "sns.histplot(customer_final.Gender)\n",
    "plt.show()\n",
    "sns.histplot(customer_final.Store_type, kde=True)\n",
    "plt.show()"
   ]
  },
  {
   "cell_type": "markdown",
   "id": "fba02d41",
   "metadata": {},
   "source": [
    "3. Generate histograms for all continuous variables and frequency bars for categorical variables"
   ]
  },
  {
   "cell_type": "code",
   "execution_count": null,
   "id": "d32e25eb",
   "metadata": {},
   "outputs": [],
   "source": [
    "conti_customer = customer_final.loc[:,['prod_subcat_code','prod_cat_code', 'Qty', 'Rate', 'Tax', 'total_amt']]"
   ]
  },
  {
   "cell_type": "code",
   "execution_count": null,
   "id": "074225e1",
   "metadata": {},
   "outputs": [],
   "source": [
    "conti_customer.columns"
   ]
  },
  {
   "cell_type": "markdown",
   "id": "5e5e0e0c",
   "metadata": {},
   "source": [
    "Histogram of all continuous variables"
   ]
  },
  {
   "cell_type": "code",
   "execution_count": null,
   "id": "5f002211",
   "metadata": {},
   "outputs": [],
   "source": [
    "for var in conti_customer.columns:\n",
    "    conti_customer[var].plot(kind='hist')\n",
    "    plt.title(var)\n",
    "    plt.show()"
   ]
  },
  {
   "cell_type": "markdown",
   "id": "c3469c70",
   "metadata": {},
   "source": [
    "Bar chart of categorical variables"
   ]
  },
  {
   "cell_type": "code",
   "execution_count": null,
   "id": "fedb4f84",
   "metadata": {},
   "outputs": [],
   "source": [
    "category_customer = customer_final.loc[:,customer_final.dtypes=='object']"
   ]
  },
  {
   "cell_type": "code",
   "execution_count": null,
   "id": "cf34f575",
   "metadata": {},
   "outputs": [],
   "source": [
    "category_customer.head()"
   ]
  },
  {
   "cell_type": "code",
   "execution_count": null,
   "id": "6eb08fc1",
   "metadata": {},
   "outputs": [],
   "source": [
    "fig = plt.figure(figsize=(10, 10))\n",
    "\n",
    "ax1 = fig.add_subplot(2, 2, 1)\n",
    "sns.countplot(data=category_customer, x='Gender', ax=ax1)\n",
    "\n",
    "ax2 = fig.add_subplot(2, 2, 2)\n",
    "sns.countplot(data=category_customer, x='Store_type', ax=ax2)\n",
    "ax2.set_xlabel('Store Type')\n",
    "\n",
    "ax3 = fig.add_subplot(2, 2, 3)\n",
    "sns.countplot(data=category_customer, x='prod_cat', ax=ax3)\n",
    "ax3.set_xlabel('Product Category')\n",
    "ax3.set_xticklabels(ax3.get_xticklabels(), rotation=90)\n",
    "\n",
    "ax4 = fig.add_subplot(2, 2, 4)\n",
    "category_customer['prod_subcat'].value_counts().plot(kind='barh', ax=ax4)\n",
    "ax4.set_xlabel('Count')\n",
    "ax4.set_ylabel('Product Subcategory')\n",
    "\n",
    "plt.subplots_adjust(wspace=1)\n",
    "plt.show()\n"
   ]
  },
  {
   "cell_type": "markdown",
   "id": "ba99637b",
   "metadata": {},
   "source": [
    " 4. Calculate the following information using the merged dataset :"
   ]
  },
  {
   "cell_type": "markdown",
   "id": "426fcb00",
   "metadata": {},
   "source": [
    " a. Time period of the available transaction data"
   ]
  },
  {
   "cell_type": "code",
   "execution_count": null,
   "id": "c77a6834",
   "metadata": {},
   "outputs": [],
   "source": [
    "customer_final.sort_values(by=\"tran_date\")"
   ]
  },
  {
   "cell_type": "code",
   "execution_count": null,
   "id": "27ea2262",
   "metadata": {},
   "outputs": [],
   "source": [
    "min_date = customer_final[\"tran_date\"].min()\n",
    "min_date"
   ]
  },
  {
   "cell_type": "code",
   "execution_count": null,
   "id": "fabd368b",
   "metadata": {},
   "outputs": [],
   "source": [
    "max_date = customer_final[\"tran_date\"].max()\n",
    "max_date"
   ]
  },
  {
   "cell_type": "code",
   "execution_count": null,
   "id": "612acad2",
   "metadata": {},
   "outputs": [],
   "source": [
    "print(\"Time period of the available transaction data is from \"+ pd.Timestamp.strftime(min_date,format=\"%d-%m-%Y\") + \" to \" + pd.Timestamp.strftime(max_date,format=\"%d-%m-%Y\"))"
   ]
  },
  {
   "cell_type": "markdown",
   "id": "bdfacb58",
   "metadata": {},
   "source": [
    "(b) Count of transactions where the total amount of transaction was negative"
   ]
  },
  {
   "cell_type": "code",
   "execution_count": null,
   "id": "22c5d32b",
   "metadata": {},
   "outputs": [],
   "source": [
    "customer_final.head()"
   ]
  },
  {
   "cell_type": "code",
   "execution_count": null,
   "id": "c9a70942",
   "metadata": {},
   "outputs": [],
   "source": [
    "#count of transaction_ids where total_amt was negative\n",
    "negative_transaction = customer_final.loc[customer_final[\"total_amt\"] < 0,\"transaction_id\"].count()\n",
    "print(\"Count of transactions where the total amount of transaction was negative is\",negative_transaction)"
   ]
  },
  {
   "cell_type": "markdown",
   "id": "037a67dc",
   "metadata": {},
   "source": [
    "(5) Analyze which product categories are more popular among females vs male customers"
   ]
  },
  {
   "cell_type": "code",
   "execution_count": null,
   "id": "11f4ea6b",
   "metadata": {},
   "outputs": [],
   "source": [
    "#groupby the data set on the basis of \"Gender\" and \"prod_cat\"\n",
    "product_gender = customer_final.groupby([\"Gender\",\"prod_cat\"])[[\"Qty\"]].sum().reset_index()\n",
    "product_gender"
   ]
  },
  {
   "cell_type": "code",
   "execution_count": null,
   "id": "e2e6bc9d",
   "metadata": {},
   "outputs": [],
   "source": [
    "#converting to pivot table for better view\n",
    "product_gender.pivot(index=\"Gender\",columns=\"prod_cat\",values=\"Qty\")"
   ]
  },
  {
   "cell_type": "markdown",
   "id": "93884dfc",
   "metadata": {},
   "source": [
    "(6) Which City code has the maximum customers and what was the percentage of customers from that city?"
   ]
  },
  {
   "cell_type": "code",
   "execution_count": null,
   "id": "751b2f2e",
   "metadata": {},
   "outputs": [],
   "source": [
    "customer_group = customer_final.groupby('city_code')['customer_Id'].count().sort_values(ascending =False)\n",
    "customer_group"
   ]
  },
  {
   "cell_type": "code",
   "execution_count": null,
   "id": "2270a702",
   "metadata": {},
   "outputs": [],
   "source": [
    "percentage = round((customer_group[4.0] / customer_group.sum()) * 100,2)\n",
    "print(\"City code 4.0 has the maximum customers and the percentage of customers from that city is \",percentage)"
   ]
  },
  {
   "cell_type": "markdown",
   "id": "2d93dafb",
   "metadata": {},
   "source": [
    "(7) Which store type sells the maximum products by value and by quantity?"
   ]
  },
  {
   "cell_type": "code",
   "execution_count": null,
   "id": "da85f1a0",
   "metadata": {},
   "outputs": [],
   "source": [
    "customer_final.groupby(\"Store_type\")[[\"Qty\",\"Rate\"]].sum().sort_values(by=\"Qty\",ascending=False).head(1)"
   ]
  },
  {
   "cell_type": "code",
   "execution_count": null,
   "id": "fb34f6f4",
   "metadata": {},
   "outputs": [],
   "source": [
    "print('e-Shop store sell the maximum products by value and by quantity')"
   ]
  },
  {
   "cell_type": "markdown",
   "id": "be61d219",
   "metadata": {},
   "source": [
    "(8) What was the total amount earned from the \"Electronics\" and \"Clothing\" categories from Flagship Stores?"
   ]
  },
  {
   "cell_type": "code",
   "execution_count": null,
   "id": "ff8aa60b",
   "metadata": {},
   "outputs": [],
   "source": [
    "store_group = round(customer_final.pivot_table(index = \"prod_cat\",columns=\"Store_type\", values=\"total_amt\", aggfunc='sum'),2)\n",
    "store_group"
   ]
  },
  {
   "cell_type": "code",
   "execution_count": null,
   "id": "18c6449a",
   "metadata": {},
   "outputs": [],
   "source": [
    "store_group.loc[[\"Clothing\",\"Electronics\"],\"Flagship store\"].sum()"
   ]
  },
  {
   "cell_type": "markdown",
   "id": "6a18ea2c",
   "metadata": {},
   "source": [
    "(9) What was the total amount earned from \"Male\" customers under the \"Electronics\" category?"
   ]
  },
  {
   "cell_type": "code",
   "execution_count": null,
   "id": "ff35f92a",
   "metadata": {},
   "outputs": [],
   "source": [
    "gender_group = round(customer_final.pivot_table(index = \"prod_cat\",columns=\"Gender\", values=\"total_amt\", aggfunc='sum'),2)\n",
    "gender_group"
   ]
  },
  {
   "cell_type": "code",
   "execution_count": null,
   "id": "70f1ae54",
   "metadata": {},
   "outputs": [],
   "source": [
    "male_earning = gender_group.loc[\"Electronics\",\"M\"]\n",
    "print(\"The total amount earned from Male customers under the Electronics category is\",male_earning)"
   ]
  },
  {
   "cell_type": "markdown",
   "id": "7e772338",
   "metadata": {},
   "source": [
    "(10) How many customers have more than 10 unique transactions, after removing all transactions which have any negative amounts?"
   ]
  },
  {
   "cell_type": "code",
   "execution_count": null,
   "id": "8cfa2b95",
   "metadata": {},
   "outputs": [],
   "source": [
    "#creating a new dataframe that does not contain transactions with negative values\n",
    "pos_trans = customer_final.loc[customer_final[\"total_amt\"]>0,:]\n",
    "pos_trans"
   ]
  },
  {
   "cell_type": "code",
   "execution_count": null,
   "id": "e620d511",
   "metadata": {},
   "outputs": [],
   "source": [
    "# creating a dataframe that contains unique transactions \n",
    "unique_trans = pos_trans.groupby(['customer_Id','prod_cat','prod_subcat'])['transaction_id'].count().reset_index()\n",
    "unique_trans"
   ]
  },
  {
   "cell_type": "code",
   "execution_count": null,
   "id": "5bbdc433",
   "metadata": {},
   "outputs": [],
   "source": [
    "# now finding the customers which have unique transactions greater than 10\n",
    "unique_trans_count = unique_trans.groupby('customer_Id')['transaction_id'].count().reset_index()\n",
    "unique_trans_count"
   ]
  },
  {
   "cell_type": "code",
   "execution_count": null,
   "id": "dc99e293",
   "metadata": {},
   "outputs": [],
   "source": [
    "unique_trans_count[unique_trans_count['transaction_id'] > 10]"
   ]
  },
  {
   "cell_type": "code",
   "execution_count": null,
   "id": "7916a21a",
   "metadata": {},
   "outputs": [],
   "source": [
    "print('There are no unique transactions greater than 10')"
   ]
  },
  {
   "cell_type": "markdown",
   "id": "8b542237",
   "metadata": {},
   "source": [
    "(11) For all customers aged between 25-35, find out:\n",
    "\n",
    "a) What was the total amount spent for 'Electronics' and 'Books' product categories?"
   ]
  },
  {
   "cell_type": "code",
   "execution_count": null,
   "id": "75c0bd4c",
   "metadata": {},
   "outputs": [],
   "source": [
    "# Getting Ages for customers from DOB to 1st Mar, 2014.\n",
    "customer_final['DOB']=pd.to_datetime(customer_final['DOB'])\n",
    "dateforage=pd.to_datetime('2014-3-1')\n",
    "customer_final['Age']=((dateforage - customer_final['DOB']).dt.total_seconds()/(365.25*24*3600)).astype('int')"
   ]
  },
  {
   "cell_type": "code",
   "execution_count": null,
   "id": "1ef7a79c",
   "metadata": {},
   "outputs": [],
   "source": [
    "# Filtering by ages 25 to 35.\n",
    "customer_final_25_35=customer_final.loc[(customer_final.Age > 25)&(customer_final.Age <35)]\n",
    "# a. What was the total amount spent for “Electronics” and “Books” product categories?\n",
    "customer_final_25_35_EB=customer_final_25_35.loc[(customer_final_25_35.prod_cat =='Electronics')|(customer_final_25_35.prod_cat =='Books')]\n",
    "display(customer_final_25_35_EB.agg({'total_amt':'sum'}).reset_index())"
   ]
  },
  {
   "cell_type": "markdown",
   "id": "6bac2bd7",
   "metadata": {},
   "source": [
    "(b) What was the total amount spent by these customers between 1st Jan 2014 to 1st Mar 2014?"
   ]
  },
  {
   "cell_type": "code",
   "execution_count": null,
   "id": "36984681",
   "metadata": {},
   "outputs": [],
   "source": [
    "filter = ((customer_final['tran_date'] >= '1st Jan, 2014')&(customer_final['tran_date'] <= '1st Mar, 2014'))\n",
    "display(customer_final['total_amt'].loc[filter].sum())"
   ]
  },
  {
   "cell_type": "code",
   "execution_count": null,
   "id": "63e03807",
   "metadata": {},
   "outputs": [],
   "source": []
  }
 ],
 "metadata": {
  "kernelspec": {
   "display_name": "Python 3 (ipykernel)",
   "language": "python",
   "name": "python3"
  },
  "language_info": {
   "codemirror_mode": {
    "name": "ipython",
    "version": 3
   },
   "file_extension": ".py",
   "mimetype": "text/x-python",
   "name": "python",
   "nbconvert_exporter": "python",
   "pygments_lexer": "ipython3",
   "version": "3.11.7"
  }
 },
 "nbformat": 4,
 "nbformat_minor": 5
}
